{
 "cells": [
  {
   "cell_type": "markdown",
   "metadata": {},
   "source": [
    "**Section 1: Printing Messages**"
   ]
  },
  {
   "cell_type": "code",
   "execution_count": 1,
   "metadata": {},
   "outputs": [
    {
     "name": "stdout",
     "output_type": "stream",
     "text": [
      "Hello, Python learners! Today we start our coding journey.\n",
      "\n",
      "Hi, my name is Rana Mohamed Khalel.\n",
      "My favorite programming language is Python.\n",
      "Let's enjoy coding together!\n",
      "\n"
     ]
    }
   ],
   "source": [
    "print(\"Hello, Python learners! Today we start our coding journey.\")\n",
    "\n",
    "print(\"\"\"\n",
    "Hi, my name is Rana Mohamed Khalel.\n",
    "My favorite programming language is Python.\n",
    "Let's enjoy coding together!\n",
    "\"\"\")\n"
   ]
  },
  {
   "cell_type": "markdown",
   "metadata": {},
   "source": [
    "**Section 2: Variables and Data Types**"
   ]
  },
  {
   "cell_type": "code",
   "execution_count": 2,
   "metadata": {},
   "outputs": [
    {
     "name": "stdout",
     "output_type": "stream",
     "text": [
      "I am 20 years old.\n",
      "My integer variable has a value of 10 \n",
      "My float variable has a value of 3.14\n",
      "My string variable has a value of Python\n"
     ]
    }
   ],
   "source": [
    "\n",
    "age = 20\n",
    "print(f\"I am {age} years old.\")\n",
    "\n",
    "my_integer = 10       \n",
    "my_float = 3.14       \n",
    "my_string = \"Python\"  \n",
    "print(f\"My integer variable has a value of {my_integer} \")\n",
    "print(f\"My float variable has a value of {my_float}\")\n",
    "print(f\"My string variable has a value of {my_string}\")\n"
   ]
  },
  {
   "cell_type": "markdown",
   "metadata": {},
   "source": [
    "**Section 3: Working with Strings**"
   ]
  },
  {
   "cell_type": "code",
   "execution_count": 4,
   "metadata": {},
   "outputs": [
    {
     "name": "stdout",
     "output_type": "stream",
     "text": [
      "amazing\n",
      "RANA KHALEL\n"
     ]
    }
   ],
   "source": [
    "# Extract and print the word \"amazing\" from the string\n",
    "text = \"Python is amazing\"\n",
    "word = text[10:]  \n",
    "print(word)\n",
    "\n",
    "# Challenge: Concatenate first_name and last_name, and print the full name in uppercase\n",
    "first_name = \"Rana\"\n",
    "last_name = \"Khalel\"\n",
    "full_name = f\"{first_name} {last_name}\"  \n",
    "print(full_name.upper())\n"
   ]
  },
  {
   "cell_type": "markdown",
   "metadata": {},
   "source": [
    "**Section 4: Basic Operations**"
   ]
  },
  {
   "cell_type": "code",
   "execution_count": 5,
   "metadata": {},
   "outputs": [
    {
     "name": "stdout",
     "output_type": "stream",
     "text": [
      "The area of the rectangle with width 5 and height 10 is 50.\n",
      "Addition: 20 + 7 = 27\n",
      "Subtraction: 20 - 7 = 13\n",
      "Multiplication: 20 * 7 = 140\n",
      "Division: 20 / 7 = 2.857142857142857\n",
      "Modulo: 20 % 7 = 6\n"
     ]
    }
   ],
   "source": [
    "# Calculate the area of a rectangle\n",
    "width = 5\n",
    "height = 10\n",
    "area = width * height\n",
    "print(f\"The area of the rectangle with width {width} and height {height} is {area}.\")\n",
    "\n",
    "# Challenge: Perform arithmetic operations on two numbers\n",
    "a = 20\n",
    "b = 7\n",
    "\n",
    "print(f\"Addition: {a} + {b} = {a + b}\")\n",
    "print(f\"Subtraction: {a} - {b} = {a - b}\")\n",
    "print(f\"Multiplication: {a} * {b} = {a * b}\")\n",
    "print(f\"Division: {a} / {b} = {a / b}\")  \n",
    "print(f\"Modulo: {a} % {b} = {a % b}\")\n"
   ]
  },
  {
   "cell_type": "markdown",
   "metadata": {},
   "source": [
    "**Section 5: Lists and Tuples**"
   ]
  },
  {
   "cell_type": "code",
   "execution_count": 8,
   "metadata": {},
   "outputs": [
    {
     "name": "stdout",
     "output_type": "stream",
     "text": [
      "My favorite foods: ['Pizza', 'Burger', 'Pasta', 'Sushi', 'Ice Cream']\n",
      "The third item in my favorite foods list is: Pasta\n",
      "My favorite foods as a tuple: ('Pizza', 'Burger', 'Pasta', 'Sushi', 'Ice Cream')\n",
      "Error: 'tuple' object does not support item assignment\n"
     ]
    }
   ],
   "source": [
    "# Create a list of favorite foods\n",
    "favorite_foods = [\"Pizza\", \"Burger\", \"Pasta\", \"Sushi\", \"Ice Cream\"]\n",
    "\n",
    "print(\"My favorite foods:\", favorite_foods)\n",
    "\n",
    "print(\"The third item in my favorite foods list is:\", favorite_foods[2])\n",
    "\n",
    "# Challenge: Convert the list into a tuple\n",
    "favorite_foods_tuple = tuple(favorite_foods)\n",
    "print(\"My favorite foods as a tuple:\", favorite_foods_tuple)\n",
    "\n",
    "try:\n",
    "    favorite_foods_tuple[0] = \"Salad\"\n",
    "except TypeError as e:\n",
    "    print(f\"Error: {e}\")\n"
   ]
  },
  {
   "cell_type": "markdown",
   "metadata": {},
   "source": [
    "**Section 6: String Manipulation and Slicing**"
   ]
  },
  {
   "cell_type": "code",
   "execution_count": 10,
   "metadata": {},
   "outputs": [
    {
     "name": "stdout",
     "output_type": "stream",
     "text": [
      "Python\n",
      "Learning Python is awesome!\n"
     ]
    }
   ],
   "source": [
    "\n",
    "sentence = \"Learning Python is fun!\"\n",
    "# Slice and print the word \"Python\"\n",
    "word_python = sentence[9:15]  \n",
    "print( word_python)\n",
    "\n",
    "# Challenge: Replace the word \"fun\" with \"awesome\"\n",
    "new_sentence = sentence.replace(\"fun\", \"awesome\") \n",
    "print( new_sentence)\n"
   ]
  },
  {
   "cell_type": "markdown",
   "metadata": {},
   "source": [
    "**Section 7: Dictionaries**"
   ]
  },
  {
   "cell_type": "code",
   "execution_count": 11,
   "metadata": {},
   "outputs": [
    {
     "name": "stdout",
     "output_type": "stream",
     "text": [
      "{'name': 'Rana', 'age': 20, 'grade': 'A+'}\n",
      "{'name': 'Rana', 'age': 20, 'grade': 'A+', 'city': 'Cairo'}\n"
     ]
    }
   ],
   "source": [
    "# Create a dictionary for the student\n",
    "student = {\n",
    "    \"name\": \"Rana\",\n",
    "    \"age\": 20,\n",
    "    \"grade\": \"A+\"\n",
    "}\n",
    "\n",
    "print(student)\n",
    "\n",
    "# Challenge: Add a new key 'city' and assign it a value\n",
    "student[\"city\"] = \"Cairo\"\n",
    "\n",
    "# Print the updated dictionary\n",
    "print(student)\n"
   ]
  },
  {
   "cell_type": "markdown",
   "metadata": {},
   "source": [
    "**Section8: Basic Arithmetic Operations**"
   ]
  },
  {
   "cell_type": "code",
   "execution_count": null,
   "metadata": {},
   "outputs": [
    {
     "name": "stdout",
     "output_type": "stream",
     "text": [
      "Sum: 10 + 5 = 15\n",
      "Difference: 10 - 5 = 5\n",
      "Product: 10 * 5 = 50\n",
      "Division: 10 / 5 = 2.00\n",
      "10 is Divisible by 5\n"
     ]
    }
   ],
   "source": [
    "# Taking two numbers as input from the user\n",
    "num1 = int(input(\"Enter the first number: \"))\n",
    "num2 = int(input(\"Enter the second number: \"))\n",
    "\n",
    "print(f\"Sum: {num1} + {num2} = {num1 + num2}\")\n",
    "print(f\"Difference: {num1} - {num2} = {num1 - num2}\")\n",
    "print(f\"Product: {num1} * {num2} = {num1 * num2}\")\n",
    "if num2 != 0:\n",
    "    print(f\"Division: {num1} / {num2} = {num1 / num2}\")\n",
    "else:\n",
    "    print(\"Division: Cannot divide by zero!\")\n",
    "\n",
    "# Challenge: Check divisibility using the modulo operator\n",
    "if num2 != 0:\n",
    "    if num1 % num2 == 0:\n",
    "        print(f\"{num1} is Divisible by {num2}\")\n",
    "    else:\n",
    "        print(f\"{num1} is Not Divisible by {num2}\")\n",
    "else:\n",
    "    print(\"Divisibility check: Cannot divide by zero!\")\n"
   ]
  }
 ],
 "metadata": {
  "kernelspec": {
   "display_name": "Python 3",
   "language": "python",
   "name": "python3"
  },
  "language_info": {
   "codemirror_mode": {
    "name": "ipython",
    "version": 3
   },
   "file_extension": ".py",
   "mimetype": "text/x-python",
   "name": "python",
   "nbconvert_exporter": "python",
   "pygments_lexer": "ipython3",
   "version": "3.13.0"
  }
 },
 "nbformat": 4,
 "nbformat_minor": 2
}
