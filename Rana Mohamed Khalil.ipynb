{
 "cells": [
  {
   "cell_type": "markdown",
   "metadata": {},
   "source": [
    "**Part 1: Lists and List Slicing**"
   ]
  },
  {
   "cell_type": "code",
   "execution_count": 2,
   "metadata": {},
   "outputs": [
    {
     "name": "stdout",
     "output_type": "stream",
     "text": [
      "First 5 elements: [2, 4, 6, 8, 10]\n",
      "Last 3 elements: [16, 18, 20]\n",
      "Elements from index 3 to index 7: [8, 10, 12, 14, 16]\n",
      "Updated list of fruits: ['Apple', 'Banana', 'Cherry', 'Date', 'Mango', 'Blueberry']\n"
     ]
    }
   ],
   "source": [
    "numbers = [2, 4, 6, 8, 10, 12, 14, 16, 18, 20]\n",
    "first_five = numbers[:5]\n",
    "print(\"First 5 elements:\", first_five)\n",
    "last_three = numbers[-3:]\n",
    "print(\"Last 3 elements:\", last_three)\n",
    "middle_elements = numbers[3:8]\n",
    "print(\"Elements from index 3 to index 7:\", middle_elements)\n",
    "# Create a list of 5 different fruits\n",
    "fruits = [\"Apple\", \"Banana\", \"Cherry\", \"Date\", \"Mango\"]\n",
    "fruits.append(\"Blueberry\")\n",
    "fruits.append(\"Grape\")\n",
    "fruits.pop()\n",
    "print(\"Updated list of fruits:\", fruits)\n",
    "\n"
   ]
  },
  {
   "cell_type": "markdown",
   "metadata": {},
   "source": [
    "**Part 2: Tuples and Dictionaries**"
   ]
  },
  {
   "cell_type": "code",
   "execution_count": 5,
   "metadata": {},
   "outputs": [
    {
     "name": "stdout",
     "output_type": "stream",
     "text": [
      "The second city in the tuple is: Los Angeles\n",
      "Error: 'tuple' object does not support item assignment\n",
      "Tuples are immutable, so their elements cannot be changed.\n",
      "Age: 20\n",
      "Updated dictionary: {'name': 'Rana', 'age': 20, 'job': 'Engineer'}\n",
      "Rana is 20 years old.\n",
      "Youssef is 21 years old.\n",
      "Khalel is 22 years old.\n"
     ]
    }
   ],
   "source": [
    "# Create a tuple with 5 different cities\n",
    "cities = (\"New York\", \"Los Angeles\", \"Paris\", \"Tokyo\", \"Berlin\")\n",
    "second_city = cities[1]\n",
    "print(\"The second city in the tuple is:\", second_city)\n",
    "try:\n",
    "    cities[1] = \"London\"\n",
    "except TypeError as e:\n",
    "    print(f\"Error: {e}\")\n",
    "    print(\"Tuples are immutable, so their elements cannot be changed.\")\n",
    " \n",
    "# Create a dictionary with initial keys and values\n",
    "person = {\n",
    "    \"name\": \"Rana\",\n",
    "    \"age\": 20,\n",
    "    \"city\": \"Egypt\"\n",
    "}\n",
    "\n",
    "print(\"Age:\", person[\"age\"])\n",
    "\n",
    "person[\"job\"] = \"Engineer\"\n",
    "\n",
    "del person[\"city\"]\n",
    "print(\"Updated dictionary:\", person)\n",
    "\n",
    "# Create a dictionary to store names and ages\n",
    "people = {\n",
    "    \"Rana\": 20,\n",
    "    \"Youssef\": 21,\n",
    "    \"Khalel\": 22\n",
    "}\n",
    "\n",
    "for name, age in people.items():\n",
    "    print(f\"{name} is {age} years old.\")\n",
    "\n",
    "\n"
   ]
  },
  {
   "cell_type": "markdown",
   "metadata": {},
   "source": [
    "**Part 3: Conditional Statements**"
   ]
  },
  {
   "cell_type": "code",
   "execution_count": 8,
   "metadata": {},
   "outputs": [
    {
     "name": "stdout",
     "output_type": "stream",
     "text": [
      "Adult\n",
      "Even\n",
      "Grade: A\n"
     ]
    }
   ],
   "source": [
    "# Taking the user's age as input\n",
    "age = int(input(\"Enter your age: \"))\n",
    "if age >= 18:\n",
    "    print(\"Adult\")\n",
    "else:\n",
    "    print(\"Minor\")\n",
    "\n",
    "# Taking a number from the user\n",
    "number = int(input(\"Enter a number: \"))\n",
    "if number % 2 == 0:\n",
    "    print(\"Even\")\n",
    "else:\n",
    "    print(\"Odd\")\n",
    "\n",
    "# Taking the score as input\n",
    "score = int(input(\"Enter the score: \"))\n",
    "\n",
    "if score >= 90:\n",
    "    print(\"Grade: A\")\n",
    "elif score >= 70:\n",
    "    print(\"Grade: B\")\n",
    "elif score >= 50:\n",
    "    print(\"Grade: C\")\n",
    "else:\n",
    "    print(\"Grade: F\")\n",
    "\n",
    "\n"
   ]
  },
  {
   "cell_type": "markdown",
   "metadata": {},
   "source": [
    "**Part 4: Loops**"
   ]
  },
  {
   "cell_type": "code",
   "execution_count": 11,
   "metadata": {},
   "outputs": [
    {
     "name": "stdout",
     "output_type": "stream",
     "text": [
      "2\n",
      "4\n",
      "6\n",
      "8\n",
      "10\n",
      "12\n",
      "14\n",
      "16\n",
      "18\n",
      "20\n",
      "10\n",
      "9\n",
      "8\n",
      "7\n",
      "6\n",
      "5\n",
      "4\n",
      "3\n",
      "2\n",
      "1\n",
      "The sum of all numbers from 1 to 12 is: 78\n"
     ]
    }
   ],
   "source": [
    "# Using a for loop to print all even numbers between 1 and 20\n",
    "for num in range(1, 21):\n",
    "    if num % 2 == 0:\n",
    "        print(num)\n",
    "\n",
    "# Using a while loop to print numbers from 10 to 1 in descending order\n",
    "num = 10\n",
    "while num >= 1:\n",
    "    print(num)\n",
    "    num -= 1  \n",
    "\n",
    "n = int(input(\"Enter a number: \"))\n",
    "\n",
    "# Using a for loop to calculate the sum of all numbers from 1 to the entered number\n",
    "sum_of_numbers = 0\n",
    "for num in range(1, n + 1):\n",
    "    sum_of_numbers += num  \n",
    "\n",
    "print(\"The sum of all numbers from 1 to\", n, \"is:\", sum_of_numbers)\n",
    "\n"
   ]
  },
  {
   "cell_type": "markdown",
   "metadata": {},
   "source": [
    "**Part 5: Input Function and User Interaction**"
   ]
  },
  {
   "cell_type": "code",
   "execution_count": null,
   "metadata": {},
   "outputs": [
    {
     "name": "stdout",
     "output_type": "stream",
     "text": [
      "Hello, rana! You are 20 years old.\n",
      "You have great taste!\n"
     ]
    }
   ],
   "source": [
    "name = input(\"What is your name? \")\n",
    "age = int(input(\"How old are you? \"))\n",
    "\n",
    "print(f\"Hello, {name}! You are {age} years old.\")\n",
    "\n",
    "favorite_color = input(\"What is your favorite color? \").upper()  \n",
    "\n",
    "if favorite_color == \"BLUE\":\n",
    "    print(\"You have great taste!\")\n",
    "else:\n",
    "    print(\"That's a nice color too!\")\n",
    "\n"
   ]
  }
 ],
 "metadata": {
  "kernelspec": {
   "display_name": "Python 3",
   "language": "python",
   "name": "python3"
  },
  "language_info": {
   "codemirror_mode": {
    "name": "ipython",
    "version": 3
   },
   "file_extension": ".py",
   "mimetype": "text/x-python",
   "name": "python",
   "nbconvert_exporter": "python",
   "pygments_lexer": "ipython3",
   "version": "3.13.0"
  }
 },
 "nbformat": 4,
 "nbformat_minor": 2
}
