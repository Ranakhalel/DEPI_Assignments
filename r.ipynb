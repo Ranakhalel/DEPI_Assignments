{
 "cells": [
  {
   "cell_type": "code",
   "execution_count": 1,
   "metadata": {},
   "outputs": [],
   "source": [
    "import sqlite3"
   ]
  },
  {
   "cell_type": "code",
   "execution_count": 2,
   "metadata": {},
   "outputs": [],
   "source": [
    "#Create connection\n",
    "conn =sqlite3.connect('school.db') \n",
    "cursor = conn.cursor()"
   ]
  },
  {
   "cell_type": "code",
   "execution_count": 3,
   "metadata": {},
   "outputs": [
    {
     "data": {
      "text/plain": [
       "<sqlite3.Cursor at 0x1fa4316fb40>"
      ]
     },
     "execution_count": 3,
     "metadata": {},
     "output_type": "execute_result"
    }
   ],
   "source": [
    "# Create tables\n",
    "cursor.execute('''CREATE TABLE IF NOT EXISTS students ( id INTEGER PRIMARY KEY AUTOINCREMENT, name TEXT, age INTEGER, gender TEXT )''') \n",
    "cursor.execute('''CREATE TABLE IF NOT EXISTS courses ( id INTEGER PRIMARY KEY AUTOINCREMENT, name TEXT, credits INTEGER )''')\n",
    "cursor.execute('''CREATE TABLE IF NOT EXISTS enrollments ( \n",
    "               id INTEGER PRIMARY KEY AUTOINCREMENT, student_id INTEGER, course_id INTEGER, grade REAL, FOREIGN KEY(student_id) REFERENCES students(id), FOREIGN KEY(course_id) REFERENCES courses(id) )''')"
   ]
  },
  {
   "cell_type": "code",
   "execution_count": 4,
   "metadata": {},
   "outputs": [],
   "source": [
    "cursor.executemany('INSERT INTO students (name, age, gender) VALUES (?, ?, ?)', [\n",
    "\n",
    "('Alice', 22, 'F'),\n",
    "\n",
    "('Bob', 20, 'M'),\n",
    "\n",
    "('Charlie', 23, 'M')\n",
    "\n",
    "])\n",
    "\n",
    "\n",
    "cursor.executemany('INSERT INTO courses (name, credits) VALUES (?, ?)', [\n",
    "\n",
    "('Math', 3),\n",
    "\n",
    "('Science', 4),\n",
    "\n",
    "('History', 2)\n",
    "\n",
    "])\n",
    "\n",
    "\n",
    "cursor.executemany('INSERT INTO enrollments (student_id, course_id, grade) VALUES (?, ?, ?)', [\n",
    "\n",
    "(1, 1, 85),\n",
    "\n",
    "(1, 2, 90),\n",
    "\n",
    "(2, 1, 78),\n",
    "\n",
    "(3, 3, 88)\n",
    "\n",
    "])\n",
    "\n",
    "\n",
    "conn.commit()"
   ]
  },
  {
   "cell_type": "code",
   "execution_count": 6,
   "metadata": {},
   "outputs": [
    {
     "name": "stdout",
     "output_type": "stream",
     "text": [
      "[(1, 'Alice', 22, 'F'), (2, 'Bob', 20, 'M'), (3, 'Charlie', 23, 'M')]\n"
     ]
    }
   ],
   "source": [
    "cursor.execute(\"SELECT * FROM students\")\n",
    "\n",
    "print(cursor.fetchall())"
   ]
  },
  {
   "cell_type": "code",
   "execution_count": 7,
   "metadata": {},
   "outputs": [],
   "source": [
    "# Insert a new student\n",
    "\n",
    "cursor.execute(\"INSERT INTO students (name, age, gender) VALUES ('David', 21, 'M')\")\n",
    "\n",
    "conn.commit()"
   ]
  },
  {
   "cell_type": "code",
   "execution_count": 8,
   "metadata": {},
   "outputs": [
    {
     "name": "stdout",
     "output_type": "stream",
     "text": [
      "[(1, 'Alice', 22, 'F'), (3, 'Charlie', 23, 'M')]\n"
     ]
    }
   ],
   "source": [
    "# Filter students older than 21\n",
    "\n",
    "cursor.execute(\"SELECT * FROM students WHERE age > 21\")\n",
    "print(cursor.fetchall())"
   ]
  },
  {
   "cell_type": "code",
   "execution_count": 9,
   "metadata": {},
   "outputs": [
    {
     "name": "stdout",
     "output_type": "stream",
     "text": [
      "[('Alice', 85.0), ('Alice', 90.0), ('Charlie', 88.0)]\n"
     ]
    }
   ],
   "source": [
    "# Retrieve students with grades between 80 and 90\n",
    "\n",
    "cursor.execute('''SELECT s.name, e.grade\n",
    "\n",
    "FROM students s\n",
    "JOIN enrollments e ON s.id = e.student_id\n",
    "\n",
    "WHERE e.grade BETWEEN 80 AND 90''')\n",
    "\n",
    "print(cursor.fetchall() )"
   ]
  },
  {
   "cell_type": "code",
   "execution_count": 10,
   "metadata": {},
   "outputs": [
    {
     "name": "stdout",
     "output_type": "stream",
     "text": [
      "[('Math', 3), ('Science', 4), ('History', 2)]\n"
     ]
    }
   ],
   "source": [
    "# Total credits for each course\n",
    "cursor.execute(\"SELECT name, credits FROM courses\")\n",
    "\n",
    "print(cursor.fetchall() )"
   ]
  },
  {
   "cell_type": "code",
   "execution_count": 13,
   "metadata": {},
   "outputs": [
    {
     "name": "stdout",
     "output_type": "stream",
     "text": [
      "[(3, 'Charlie', 23, 'M'), (1, 'Alice', 22, 'F'), (4, 'David', 21, 'M'), (2, 'Bob', 20, 'M')]\n"
     ]
    }
   ],
   "source": [
    "# Students sorted by age descending\n",
    "\n",
    "cursor.execute(\"SELECT * FROM students ORDER BY age DESC\")\n",
    "\n",
    "print(cursor.fetchall())"
   ]
  },
  {
   "cell_type": "code",
   "execution_count": 14,
   "metadata": {},
   "outputs": [
    {
     "name": "stdout",
     "output_type": "stream",
     "text": [
      "[('David',)]\n"
     ]
    }
   ],
   "source": [
    "# Students not enrolled in any courses (LEFT JOIN)\n",
    "\n",
    "cursor.execute('''SELECT s.name\n",
    "\n",
    "FROM students s\n",
    "               LEFT JOIN enrollments e ON s.id = e.student_id\n",
    "\n",
    "WHERE e.id IS NULL''')\n",
    "\n",
    "print(cursor.fetchall())"
   ]
  },
  {
   "cell_type": "code",
   "execution_count": 16,
   "metadata": {},
   "outputs": [
    {
     "ename": "OperationalError",
     "evalue": "no such column: e.course",
     "output_type": "error",
     "traceback": [
      "\u001b[1;31m---------------------------------------------------------------------------\u001b[0m",
      "\u001b[1;31mOperationalError\u001b[0m                          Traceback (most recent call last)",
      "Cell \u001b[1;32mIn[16], line 1\u001b[0m\n\u001b[1;32m----> 1\u001b[0m \u001b[43mcursor\u001b[49m\u001b[38;5;241;43m.\u001b[39;49m\u001b[43mexecute\u001b[49m\u001b[43m(\u001b[49m\u001b[38;5;124;43m'''\u001b[39;49m\n\u001b[0;32m      2\u001b[0m \u001b[38;5;124;43mSELECT s.name, e.course, e.grade\u001b[39;49m\n\u001b[0;32m      3\u001b[0m \u001b[38;5;124;43mFROM students s\u001b[39;49m\n\u001b[0;32m      4\u001b[0m \u001b[38;5;124;43mJOIN enrollments e ON s.student_id = e.student_id\u001b[39;49m\n\u001b[0;32m      5\u001b[0m \u001b[38;5;124;43mWHERE e.course = \u001b[39;49m\u001b[38;5;124;43m'\u001b[39;49m\u001b[38;5;124;43mMath\u001b[39;49m\u001b[38;5;124;43m'\u001b[39;49m\u001b[38;5;124;43m AND e.grade > 80\u001b[39;49m\n\u001b[0;32m      6\u001b[0m \u001b[38;5;124;43m'''\u001b[39;49m\u001b[43m)\u001b[49m\n\u001b[0;32m      7\u001b[0m \u001b[38;5;28mprint\u001b[39m(\u001b[38;5;124m\"\u001b[39m\u001b[38;5;130;01m\\n\u001b[39;00m\u001b[38;5;124mStudents enrolled in \u001b[39m\u001b[38;5;124m'\u001b[39m\u001b[38;5;124mMath\u001b[39m\u001b[38;5;124m'\u001b[39m\u001b[38;5;124m with grades above 80:\u001b[39m\u001b[38;5;124m\"\u001b[39m)\n\u001b[0;32m      8\u001b[0m \u001b[38;5;28;01mfor\u001b[39;00m row \u001b[38;5;129;01min\u001b[39;00m cursor\u001b[38;5;241m.\u001b[39mfetchall():\n",
      "\u001b[1;31mOperationalError\u001b[0m: no such column: e.course"
     ]
    }
   ],
   "source": [
    "cursor.execute('''\n",
    "SELECT s.name, e.course, e.grade\n",
    "FROM students s\n",
    "JOIN enrollments e ON s.student_id = e.student_id\n",
    "WHERE e.course = 'Math' AND e.grade > 80\n",
    "''')\n",
    "print(\"\\nStudents enrolled in 'Math' with grades above 80:\")\n",
    "for row in cursor.fetchall():\n",
    "    print(row)"
   ]
  }
 ],
 "metadata": {
  "kernelspec": {
   "display_name": "Python 3",
   "language": "python",
   "name": "python3"
  },
  "language_info": {
   "codemirror_mode": {
    "name": "ipython",
    "version": 3
   },
   "file_extension": ".py",
   "mimetype": "text/x-python",
   "name": "python",
   "nbconvert_exporter": "python",
   "pygments_lexer": "ipython3",
   "version": "3.13.0"
  }
 },
 "nbformat": 4,
 "nbformat_minor": 2
}
